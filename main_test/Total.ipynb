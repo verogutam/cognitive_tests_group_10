{
 "cells": [
  {
   "cell_type": "markdown",
   "id": "64429bdc-67c7-44d5-b8d8-00e246ce7ba3",
   "metadata": {},
   "source": [
    "# "
   ]
  },
  {
   "cell_type": "code",
   "execution_count": 1,
   "id": "initial_id",
   "metadata": {
    "is_executing": true
   },
   "outputs": [
    {
     "name": "stdout",
     "output_type": "stream",
     "text": [
      "User clicked: Right\n",
      "Well done!\n"
     ]
    }
   ],
   "source": [
    "import test_functions as tf\n",
    "\n",
    "tf.all_tests()"
   ]
  },
  {
   "cell_type": "code",
   "execution_count": null,
   "id": "2e3ae0fa-c5c3-4e22-84ba-176863c9a30a",
   "metadata": {},
   "outputs": [],
   "source": []
  }
 ],
 "metadata": {
  "kernelspec": {
   "display_name": "Python 3 (ipykernel)",
   "language": "python",
   "name": "python3"
  },
  "language_info": {
   "codemirror_mode": {
    "name": "ipython",
    "version": 3
   },
   "file_extension": ".py",
   "mimetype": "text/x-python",
   "name": "python",
   "nbconvert_exporter": "python",
   "pygments_lexer": "ipython3",
   "version": "3.10.10"
  }
 },
 "nbformat": 4,
 "nbformat_minor": 5
}
