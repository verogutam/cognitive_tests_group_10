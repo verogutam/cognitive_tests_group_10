{
 "cells": [
  {
   "cell_type": "code",
   "execution_count": 1,
   "id": "a5e0f0a6-4efe-4c28-a938-b62f78d58072",
   "metadata": {},
   "outputs": [
    {
     "data": {
      "text/html": [
       "<p><image src='dots/7.png' width='5px' ><image src='dots/33.png' width='5px' ><image src='dots/26.png' width='5px' ><image src='dots/15.png' width='5px' ><image src='dots/5.png' width='5px' ><image src='dots/8.png' width='5px' ><image src='dots/53.png' width='5px' ><image src='dots/19.png' width='5px' ><image src='dots/31.png' width='5px' ><image src='dots/14.png' width='5px' ><image src='dots/41.png' width='5px' ><image src='dots/29.png' width='5px' ><image src='dots/35.png' width='5px' ><image src='dots/50.png' width='5px' ><image src='dots/20.png' width='5px' ><image src='dots/3.png' width='5px' ><image src='dots/10.png' width='5px' ><image src='dots/36.png' width='5px' ><image src='dots/43.png' width='5px' ><image src='dots/27.png' width='5px' ><image src='dots/52.png' width='5px' ><image src='dots/45.png' width='5px' ><image src='dots/11.png' width='5px' ><image src='dots/42.png' width='5px' ><image src='dots/6.png' width='5px' ><image src='dots/60.png' width='5px' ><image src='dots/24.png' width='5px' ><image src='dots/46.png' width='5px' ><image src='dots/9.png' width='5px' ><image src='dots/40.png' width='5px' ><image src='dots/61.png' width='5px' ><image src='dots/56.png' width='5px' ><image src='dots/28.png' width='5px' ><image src='dots/54.png' width='5px' ><image src='dots/39.png' width='5px' ><image src='dots/32.png' width='5px' ><image src='dots/21.png' width='5px' ><image src='dots/18.png' width='5px' ><image src='dots/55.png' width='5px' ><image src='dots/48.png' width='5px' ><image src='dots/63.png' width='5px' ><image src='dots/38.png' width='5px' ><image src='dots/4.png' width='5px' ><image src='dots/62.png' width='5px' ><image src='dots/1.png' width='5px' ><image src='dots/12.png' width='5px' ><image src='dots/25.png' width='5px' ><image src='dots/57.png' width='5px' ><image src='dots/2.png' width='5px' ><image src='dots/13.png' width='5px' ><image src='dots/17.png' width='5px' ><image src='dots/37.png' width='5px' ><image src='dots/49.png' width='5px' ><image src='dots/34.png' width='5px' ><image src='dots/47.png' width='5px' ><image src='dots/64.png' width='5px' ><image src='dots/58.png' width='5px' ><image src='dots/30.png' width='5px' ><image src='dots/59.png' width='5px' ><image src='dots/22.png' width='5px' ><image src='dots/51.png' width='5px' ><image src='dots/44.png' width='5px' ><image src='dots/16.png' width='5px' ><image src='dots/23.png' width='5px' ><image src='Image/5_b.png' width='5px' ><image src='Image/0_a.png' width='5px' ><image src='Image/5.png' width='5px' ><image src='Image/3_a.png' width='5px' ><image src='Image/0_d.png' width='5px' ><image src='Image/2_d.png' width='5px' ><image src='Image/2_a.png' width='5px' ><image src='Image/4_d.png' width='5px' ><image src='Image/3_b.png' width='5px' ><image src='Image/3.png' width='5px' ><image src='Image/5_d.png' width='5px' ><image src='Image/4_c.png' width='5px' ><image src='Image/0.png' width='5px' ><image src='Image/5_a.png' width='5px' ><image src='Image/1_b.png' width='5px' ><image src='Image/2_b.png' width='5px' ><image src='Image/3_d.png' width='5px' ><image src='Image/0_c.png' width='5px' ><image src='Image/4_b.png' width='5px' ><image src='Image/4.png' width='5px' ><image src='Image/5_c.png' width='5px' ><image src='Image/0_b.png' width='5px' ><image src='Image/1.png' width='5px' ><image src='Image/3_c.png' width='5px' ><image src='Image/1_d.png' width='5px' ><image src='Image/4_a.png' width='5px' ><image src='Image/2.png' width='5px' ><image src='Image/1_c.png' width='5px' ><image src='Image/2_c.png' width='5px' ><image src='Image/1_a.png' width='5px' ><image src='Grid/gridhard.png' width='5px' ><image src='Grid/gridmedium.png' width='5px' ><image src='Grid/indicatedposition.png' width='5px' ><image src='Grid/grideasy.png' width='5px' ><image src='Grid/positions.png' width='5px' ></p>"
      ],
      "text/plain": [
       "<IPython.core.display.HTML object>"
      ]
     },
     "metadata": {},
     "output_type": "display_data"
    }
   ],
   "source": [
    "# added by PWL to force images to be downloaded before test starts\n",
    "import glob\n",
    "from IPython.display import HTML\n",
    "png_list = glob.glob(\"*/*.png\")\n",
    "image_list = \"\"\n",
    "for png in png_list:\n",
    "    image_list+=f\"<image src='{png}' width='5px' >\"\n",
    "display(HTML('<p>'+image_list+'</p>'))"
   ]
  },
  {
   "cell_type": "code",
   "execution_count": null,
   "id": "initial_id",
   "metadata": {
    "is_executing": true
   },
   "outputs": [],
   "source": [
    "import test_functions as tf\n",
    "\n",
    "tf.all_tests()"
   ]
  }
 ],
 "metadata": {
  "kernelspec": {
   "display_name": "Python 3 (ipykernel)",
   "language": "python",
   "name": "python3"
  },
  "language_info": {
   "codemirror_mode": {
    "name": "ipython",
    "version": 3
   },
   "file_extension": ".py",
   "mimetype": "text/x-python",
   "name": "python",
   "nbconvert_exporter": "python",
   "pygments_lexer": "ipython3",
   "version": "3.10.10"
  }
 },
 "nbformat": 4,
 "nbformat_minor": 5
}
